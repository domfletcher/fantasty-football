{
 "cells": [
  {
   "cell_type": "code",
   "execution_count": 2,
   "metadata": {
    "collapsed": true
   },
   "outputs": [],
   "source": [
    "import json"
   ]
  },
  {
   "cell_type": "code",
   "execution_count": 3,
   "metadata": {
    "collapsed": true
   },
   "outputs": [],
   "source": [
    "with open('players.current.json') as data_file:\n",
    "    data = json.load(data_file)"
   ]
  },
  {
   "cell_type": "code",
   "execution_count": 26,
   "metadata": {
    "collapsed": false
   },
   "outputs": [
    {
     "name": "stdout",
     "output_type": "stream",
     "text": [
      "{u'transfers_out': 35028, u'yellow_cards': 1, u'code': 11037, u'event_total': 1, u'goals_conceded': 3, u'photo': u'11037.jpg', u'saves': 0, u'ep_this': u'1.3', u'value_form': u'0.2', u'next_fixture': u'Stoke (A)', u'team_id': 19, u'event_points': 1, u'goals_scored': 0, u'loans_out': 0, u'web_name': u'Lambert', u'value_season': u'0.7', u'team_name': u'West Brom', u'team_code': 35, u'fixtures': {u'all': [[u'29 Aug 15:00', u'Gameweek 4', u'Stoke (A)'], [u'12 Sep 15:00', u'Gameweek 5', u'Southampton (H)'], [u'19 Sep 15:00', u'Gameweek 6', u'Aston Villa (A)'], [u'28 Sep 20:00', u'Gameweek 7', u'Everton (H)'], [u'03 Oct 12:45', u'Gameweek 8', u'Crystal Palace (A)'], [u'17 Oct 15:00', u'Gameweek 9', u'Sunderland (H)'], [u'24 Oct 15:00', u'Gameweek 10', u'Norwich (A)'], [u'31 Oct 15:00', u'Gameweek 11', u'Leicester (H)'], [u'07 Nov 15:00', u'Gameweek 12', u'Man Utd (A)'], [u'21 Nov 15:00', u'Gameweek 13', u'Arsenal (H)'], [u'29 Nov 14:05', u'Gameweek 14', u'West Ham (A)'], [u'05 Dec 15:00', u'Gameweek 15', u'Spurs (H)'], [u'12 Dec 15:00', u'Gameweek 16', u'Liverpool (A)'], [u'19 Dec 15:00', u'Gameweek 17', u'Bournemouth (H)'], [u'26 Dec 15:00', u'Gameweek 18', u'Swansea (A)'], [u'28 Dec 15:00', u'Gameweek 19', u'Newcastle (H)'], [u'02 Jan 15:00', u'Gameweek 20', u'Stoke (H)'], [u'13 Jan 19:45', u'Gameweek 21', u'Chelsea (A)'], [u'16 Jan 15:00', u'Gameweek 22', u'Southampton (A)'], [u'23 Jan 15:00', u'Gameweek 23', u'Aston Villa (H)'], [u'02 Feb 20:00', u'Gameweek 24', u'Swansea (H)'], [u'06 Feb 15:00', u'Gameweek 25', u'Newcastle (A)'], [u'13 Feb 15:00', u'Gameweek 26', u'Everton (A)'], [u'27 Feb 15:00', u'Gameweek 27', u'Crystal Palace (H)'], [u'01 Mar 19:45', u'Gameweek 28', u'Leicester (A)'], [u'05 Mar 15:00', u'Gameweek 29', u'Man Utd (H)'], [u'12 Mar 15:00', u'Gameweek 30', u'Arsenal (A)'], [u'19 Mar 15:00', u'Gameweek 31', u'Norwich (H)'], [u'02 Apr 15:00', u'Gameweek 32', u'Sunderland (A)'], [u'09 Apr 15:00', u'Gameweek 33', u'Man City (A)'], [u'16 Apr 15:00', u'Gameweek 34', u'Watford (H)'], [u'23 Apr 15:00', u'Gameweek 35', u'Spurs (A)'], [u'30 Apr 15:00', u'Gameweek 36', u'West Ham (H)'], [u'07 May 15:00', u'Gameweek 37', u'Bournemouth (A)'], [u'15 May 15:00', u'Gameweek 38', u'Liverpool (H)']], u'summary': [[4, u'STK (A)', u'29 Aug 15:00'], [5, u'SOU (H)', u'12 Sep 15:00'], [6, u'AVL (A)', u'19 Sep 15:00']]}, u'special': False, u'first_name': u'Rickie', u'transfers_out_event': 8815, u'chance_of_playing_next_round': None, u'cost_change_start': -1, u'cost_change_event_fall': 0, u'event_explain': [[u'Minutes played', 31, 1]], u'id': 200, u'type_name': u'Forward', u'selected_by': u'1.5', u'cost_change_start_fall': 1, u'loaned_in': 0, u'season_history': [[u'2012/13', 3126, 15, 8, 8, 50, 0, 0, 0, 2, 0, 0, 32, 510, 0, 68, 187], [u'2013/14', 2814, 13, 11, 14, 37, 0, 0, 0, 2, 0, 0, 28, 666, 206, 75, 179], [u'2014/15', 839, 2, 4, 2, 11, 0, 0, 0, 2, 0, 0, 0, 163, 144, 68, 50]], u'total_points': 4, u'penalties_missed': 0, u'status': u'a', u'form': u'1.3', u'own_goals': 0, u'bonus': 0, u'team': 19, u'current_fixture': u'Chelsea (H)', u'now_cost': 59, u'fixture_history': {u'all': [[u'10 Aug 20:00', 1, u'MCI(H) 0-3', 73, 0, 0, 0, 3, 0, 0, 0, 0, 0, 0, 0, -4, 4, 0, 60, 2], [u'15 Aug 15:00', 2, u'WAT(A) 0-0', 68, 0, 0, 1, 0, 0, 0, 0, 1, 0, 0, 0, 0, 1, -2436, 60, 1], [u'23 Aug 13:30', 3, u'CHE(H) 2-3', 31, 0, 0, 0, 0, 0, 0, 0, 0, 0, 0, 0, 1, 4, -19295, 59, 1]], u'summary': [[1, u'MCI (H)', 2], [2, u'WAT (A)', 1], [3, u'CHE (H)', 1]]}, u'clean_sheets': 1, u'assists': 0, u'selected_by_percent': u'1.5', u'transfers_in': 4765, u'loans_in': 0, u'ea_index': -3, u'penalties_saved': 0, u'dreamteam_count': 0, u'in_dreamteam': False, u'points_per_game': u'1.3', u'minutes': 172, u'loaned_out': 0, u'transfers_in_event': 283, u'bps': 9, u'element_type': 4, u'cost_change_event': 0, u'news': u'', u'chance_of_playing_this_round': None, u'red_cards': 0, u'second_name': u'Lambert', u'ep_next': u'1.3'}\n"
     ]
    }
   ],
   "source": [
    "print data[u'200']"
   ]
  },
  {
   "cell_type": "code",
   "execution_count": 22,
   "metadata": {
    "collapsed": true
   },
   "outputs": [],
   "source": [
    "class Player(object):\n",
    "    def __init__(self, player_json):\n",
    "        self.raw = player_json\n",
    "        self.name = u\"{first_name} {second_name}\".format(**player_json)\n",
    "        self.cost = player_json[\"now_cost\"]\n",
    "        self.position = player_json[\"type_name\"]\n",
    "        #self.team = team_abbreviations[player_json[\"team_name\"]]\n",
    "        self.idn = player_json[\"id\"]\n",
    "        self.news = player_json[\"news\"]\n",
    "        self.news_return = player_json[\"news\"]\n",
    "        #self.pos = self.shortname(self.position)\n",
    "        #self.upcoming = self.get_upcoming_fixtures(player_json[\"fixtures\"][\"all\"])\n",
    "        self.thirty_day_form"
   ]
  },
  {
   "cell_type": "code",
   "execution_count": 23,
   "metadata": {
    "collapsed": false
   },
   "outputs": [],
   "source": [
    "someguy = Player(data[u'344'])"
   ]
  },
  {
   "cell_type": "code",
   "execution_count": 24,
   "metadata": {
    "collapsed": false
   },
   "outputs": [
    {
     "name": "stdout",
     "output_type": "stream",
     "text": [
      "Benjamin Stambouli\n"
     ]
    }
   ],
   "source": [
    "print someguy.name"
   ]
  },
  {
   "cell_type": "code",
   "execution_count": null,
   "metadata": {
    "collapsed": true
   },
   "outputs": [],
   "source": []
  }
 ],
 "metadata": {
  "kernelspec": {
   "display_name": "Python 2",
   "language": "python",
   "name": "python2"
  },
  "language_info": {
   "codemirror_mode": {
    "name": "ipython",
    "version": 2
   },
   "file_extension": ".py",
   "mimetype": "text/x-python",
   "name": "python",
   "nbconvert_exporter": "python",
   "pygments_lexer": "ipython2",
   "version": "2.7.9"
  }
 },
 "nbformat": 4,
 "nbformat_minor": 0
}

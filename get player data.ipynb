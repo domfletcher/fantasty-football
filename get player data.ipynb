{
 "cells": [
  {
   "cell_type": "code",
   "execution_count": 1,
   "metadata": {
    "collapsed": false
   },
   "outputs": [
    {
     "name": "stdout",
     "output_type": "stream",
     "text": [
      "10\n",
      "20\n",
      "30\n",
      "40\n",
      "50\n",
      "60\n",
      "70\n",
      "80\n",
      "90\n",
      "100\n",
      "110\n",
      "120\n",
      "130\n",
      "140\n",
      "150\n",
      "160\n",
      "170\n",
      "180\n",
      "190\n",
      "200\n",
      "210\n",
      "220\n",
      "230\n",
      "240\n",
      "250\n",
      "260\n",
      "270\n",
      "280\n",
      "290\n",
      "300\n",
      "310\n",
      "320\n",
      "330\n",
      "340\n",
      "350\n",
      "360\n",
      "370\n",
      "380\n",
      "390\n",
      "400\n",
      "410\n",
      "420\n",
      "430\n",
      "440\n",
      "450\n",
      "460\n",
      "470\n",
      "480\n",
      "490\n",
      "500\n",
      "510\n",
      "520\n",
      "530\n",
      "540\n",
      "550\n",
      "560\n"
     ]
    }
   ],
   "source": [
    "import requests, json, shutil, time, hashlib, glob, os\n",
    "\n",
    "all = {}\n",
    "errorout = open(\"errors.log\", \"a\")\n",
    "\n",
    "n = 0\n",
    "misses = 0\n",
    "playerurl = \"http://fantasy.premierleague.com/web/api/elements/{}/\"\n",
    "while 1:\n",
    "    r = requests.get(playerurl.format(n))\n",
    "    if r.status_code != 200:\n",
    "        misses += 1\n",
    "        n += 1\n",
    "        # if we get 25 misses in a row, assume we've found all players\n",
    "        if misses >= 25:\n",
    "            break\n",
    "        continue\n",
    "\n",
    "    misses = 0\n",
    "\n",
    "    if n%10 == 0: print(n)\n",
    "\n",
    "    try:\n",
    "        all[n] = r.json()\n",
    "    except ValueError:\n",
    "        print(\"failed parsing player {}\".format(n))\n",
    "        errorout.write(\"Failed to parse player {}: {}\\n\".format(n, r.content))\n",
    "\n",
    "    n += 1\n",
    "\n",
    "t = str(time.time()).split(\".\")[0]\n",
    "fn = \"data/players.{}.json\".format(t)\n",
    "with file(fn, 'w') as outfile:\n",
    "    json.dump(all, outfile, indent=2)\n",
    "\n",
    "shutil.copy2(fn, \"players.current.json\")\n"
   ]
  },
  {
   "cell_type": "code",
   "execution_count": null,
   "metadata": {
    "collapsed": true
   },
   "outputs": [],
   "source": []
  }
 ],
 "metadata": {
  "kernelspec": {
   "display_name": "Python 2",
   "language": "python",
   "name": "python2"
  },
  "language_info": {
   "codemirror_mode": {
    "name": "ipython",
    "version": 2
   },
   "file_extension": ".py",
   "mimetype": "text/x-python",
   "name": "python",
   "nbconvert_exporter": "python",
   "pygments_lexer": "ipython2",
   "version": "2.7.10"
  }
 },
 "nbformat": 4,
 "nbformat_minor": 0
}

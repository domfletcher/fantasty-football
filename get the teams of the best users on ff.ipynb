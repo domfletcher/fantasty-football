{
 "cells": [
  {
   "cell_type": "code",
   "execution_count": 1,
   "metadata": {
    "collapsed": false
   },
   "outputs": [
    {
     "name": "stdout",
     "output_type": "stream",
     "text": [
      "page 2\n",
      "page 4\n",
      "page 6\n",
      "page 8\n",
      "page 10\n",
      "page 12\n",
      "page 14\n",
      "page 16\n",
      "page 18\n"
     ]
    }
   ],
   "source": [
    "import json\n",
    "import re\n",
    "import requests\n",
    "import shutil\n",
    "import time\n",
    "\n",
    "PL = \"http://fantasy.premierleague.com{}\"\n",
    "pages = 20\n",
    "\n",
    "teams = {}\n",
    "\n",
    "for page in range(1, pages):\n",
    "    if page % 2 == 0: print(\"page {}\".format(page))\n",
    "    link = \"/my-leagues/313/standings/?ls-page={}\".format(page)\n",
    "    res = requests.get(PL.format(link))\n",
    "    for rank, teamlink in re.findall('<td>(\\d+)</td>\\s*?<td><a href=\"(.*?)\"', res.text, re.S):\n",
    "        teamid = re.search('entry/(\\d+)', teamlink).group(1)\n",
    "        res = requests.get(PL.format(teamlink))\n",
    "        player_json = [json.loads(i) for i in re.findall('ismPitchElement\\s*({.*?})', res.text)]\n",
    "        players = [{\"id\": j[\"id\"],\n",
    "                    \"captain\": j[\"is_captain\"],\n",
    "                    \"vice_captain\": j[\"is_vice_captain\"],\n",
    "                    \"sub\": False if not j[\"sub\"] else True}\n",
    "                    for j in player_json]\n",
    "        teams[teamid] = players\n",
    "\n",
    "t = str(time.time()).split(\".\")[0]\n",
    "fn = \"top1k/{}.json\".format(t)\n",
    "with file(fn, 'w') as outfile:\n",
    "    json.dump(teams, outfile, indent=2)\n",
    "shutil.copy2(fn, \"top1k.current.json\")\n",
    "\n"
   ]
  },
  {
   "cell_type": "code",
   "execution_count": null,
   "metadata": {
    "collapsed": true
   },
   "outputs": [],
   "source": []
  }
 ],
 "metadata": {
  "kernelspec": {
   "display_name": "Python 2",
   "language": "python",
   "name": "python2"
  },
  "language_info": {
   "codemirror_mode": {
    "name": "ipython",
    "version": 2
   },
   "file_extension": ".py",
   "mimetype": "text/x-python",
   "name": "python",
   "nbconvert_exporter": "python",
   "pygments_lexer": "ipython2",
   "version": "2.7.10"
  }
 },
 "nbformat": 4,
 "nbformat_minor": 0
}

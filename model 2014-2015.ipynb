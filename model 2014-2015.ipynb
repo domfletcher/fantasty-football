{
 "cells": [
  {
   "cell_type": "code",
   "execution_count": 10,
   "metadata": {
    "collapsed": false
   },
   "outputs": [],
   "source": [
    "import json\n",
    "from datetime import date, datetime, timedelta\n"
   ]
  },
  {
   "cell_type": "code",
   "execution_count": 11,
   "metadata": {
    "collapsed": false
   },
   "outputs": [],
   "source": [
    "with open('2014-2015.json') as data_file:\n",
    "    data = json.load(data_file)"
   ]
  },
  {
   "cell_type": "code",
   "execution_count": 12,
   "metadata": {
    "collapsed": true
   },
   "outputs": [],
   "source": [
    "month_lookup = {'Aug':8,'Sep':9,'Oct':10,'Nov':11,'Dec':12,'Jan':1,'Feb':1,'Mar':3,'Apr':4,'May':5}"
   ]
  },
  {
   "cell_type": "code",
   "execution_count": 19,
   "metadata": {
    "collapsed": false
   },
   "outputs": [],
   "source": [
    "def game_date(string_date):\n",
    "    if string_date[3:6] in ['Aug','Sep','Oct','Nov','Dec']:\n",
    "        return date(2014,month_lookup[string_date[3:6]],int(string_date[0:2]))\n",
    "    else:\n",
    "        return date(2015,month_lookup[string_date[3:6]],int(string_date[0:2]))"
   ]
  },
  {
   "cell_type": "code",
   "execution_count": 14,
   "metadata": {
    "collapsed": true
   },
   "outputs": [],
   "source": [
    "class Played_game(object):\n",
    "    def __init__(self, game_json):\n",
    "        self.opp = game_json[2][:3]\n",
    "        self.loc = game_json[2][4] # \"A\" for away, \"H\" for home\n",
    "        self.points = game_json[19]\n",
    "        self.minutes = game_json[3]\n",
    "        self.date = game_date(game_json[0])\n",
    "        "
   ]
  },
  {
   "cell_type": "code",
   "execution_count": 15,
   "metadata": {
    "collapsed": true
   },
   "outputs": [],
   "source": [
    "class Player(object):\n",
    "    def __init__(self, player_json):\n",
    "        self.raw = player_json\n",
    "        self.name = u\"{first_name} {second_name}\".format(**player_json)\n",
    "        self.cost = player_json[\"now_cost\"]\n",
    "        self.position = player_json[\"type_name\"]\n",
    "        self.games= [Played_game(g) for g in player_json[u'fixture_history'][u'all'] ]\n",
    "    def __repr__(self):\n",
    "        return \"# %s\" % self.name.encode(\"ascii\",\"ignore\")"
   ]
  },
  {
   "cell_type": "code",
   "execution_count": 20,
   "metadata": {
    "collapsed": false,
    "scrolled": true
   },
   "outputs": [],
   "source": [
    "players = [Player(x) for x in data.itervalues()]"
   ]
  },
  {
   "cell_type": "code",
   "execution_count": 21,
   "metadata": {
    "collapsed": false
   },
   "outputs": [
    {
     "name": "stdout",
     "output_type": "stream",
     "text": [
      "[u'17 Aug 13:30', 1, u'SOU(H) 2-1', 90, 0, 0, 0, 1, 0, 0, 0, 0, 0, 0, 0, 16, 22, 0, 55, 2]\n"
     ]
    }
   ],
   "source": [
    "print data[u'344'][u'fixture_history'][u'all'][0]"
   ]
  },
  {
   "cell_type": "code",
   "execution_count": 22,
   "metadata": {
    "collapsed": false
   },
   "outputs": [],
   "source": [
    "def player_form(player, game):\n",
    "    points  =  0\n",
    "    games_played = 0\n",
    "    for g in player.games:\n",
    "        if g.date >= game.date + timedelta(days=-30) and g.date < game.date and g.minutes>0:\n",
    "            points = points + g.points\n",
    "            games_played = games_played + 1\n",
    "    if points == 0:\n",
    "        return 0\n",
    "    else:\n",
    "        return float(points)/games_played"
   ]
  },
  {
   "cell_type": "code",
   "execution_count": 28,
   "metadata": {
    "collapsed": false
   },
   "outputs": [],
   "source": [
    "def opp_form(game):\n",
    "    points  =  0\n",
    "    games_played = 0\n",
    "    for player in players:\n",
    "        for g in player.games:\n",
    "            if g.date >= game.date + timedelta(days=-30) and g.date < game.date and g.minutes>0 and g.opp == game.opp:\n",
    "                points = points + g.points\n",
    "                games_played = games_played + 1\n",
    "    if points == 0:\n",
    "        return 0\n",
    "    else:\n",
    "        return float(points)/games_played"
   ]
  },
  {
   "cell_type": "code",
   "execution_count": 30,
   "metadata": {
    "collapsed": false
   },
   "outputs": [
    {
     "name": "stdout",
     "output_type": "stream",
     "text": [
      "2014-08-16 H 90 2 0 HUL 0\n",
      "2014-08-24 A 90 2 2.0 TOT 1.85714285714\n",
      "2014-08-30 H 0 0 2.0 SUN 2.5\n",
      "2014-09-13 H 19 5 2.0 SWA 1.64285714286\n",
      "2014-09-21 A 0 0 3.5 MCI 2.90476190476\n",
      "2014-09-27 H 10 1 5.0 AVL 2.78571428571\n",
      "2014-10-05 H 0 0 3.0 ARS 1.92857142857\n",
      "2014-10-18 A 90 2 1.0 CRY 3.02380952381\n",
      "2014-10-26 A 0 0 1.5 MUN 2.075\n",
      "2014-11-01 H 0 0 2.0 QPR 2.975\n",
      "2014-11-08 A 0 0 2.0 LIV 3.21428571429\n",
      "2014-11-22 H 12 1 0 WBA 3.07142857143\n",
      "2014-11-29 A 15 1 1.0 SUN 2.65853658537\n",
      "2014-12-03 H 24 5 1.0 TOT 2.09756097561\n",
      "2014-12-06 A 0 0 2.33333333333 NEW 2.64150943396\n",
      "2014-12-13 H 0 0 2.33333333333 HUL 3.50909090909\n",
      "2014-12-22 A 0 0 2.33333333333 STK 3.01449275362\n",
      "2014-12-26 H 0 0 3.0 WHU 1.78260869565\n",
      "2014-12-28 A 2 1 3.0 SOU 3.64102564103\n",
      "2015-01-01 A 0 0 3.0 TOT 2.91463414634\n",
      "2015-01-10 H 7 1 1.0 NEW 3.18072289157\n",
      "2015-01-17 A 16 1 1.25 SWA 2.57142857143\n",
      "2015-01-31 H 86 7 1.25 MCI 2.51219512195\n",
      "2015-01-07 A 27 1 1.0 AVL 4.32098765432\n",
      "2015-01-11 H 69 2 1.0 EVE 3.66315789474\n",
      "2015-01-21 H 0 0 1.2 BUR 2.95918367347\n",
      "2015-03-04 A 1 1 0 WHU 0\n",
      "2015-03-15 H 9 1 1.0 SOU 1.75\n",
      "2015-03-22 A 16 7 1.0 HUL 3.25\n",
      "2015-04-04 H 62 7 4.0 STK 3.39285714286\n",
      "2015-04-12 A 0 0 5.0 QPR 3.03636363636\n",
      "2015-04-18 H 0 0 7.0 MUN 2.0243902439\n",
      "2015-04-26 A 0 0 7.0 ARS 1.79166666667\n",
      "2015-04-29 A 0 0 7.0 LEI 1.91071428571\n",
      "2015-05-03 H 0 0 7.0 CRY 3.29090909091\n",
      "2015-05-10 H 83 2 0 LIV 2.94545454545\n",
      "2015-05-18 A 78 2 2.0 WBA 2.27777777778\n",
      "2015-05-24 H 47 12 2.0 SUN 2.64705882353\n"
     ]
    }
   ],
   "source": [
    "for g in players[111].games:\n",
    "    print g.date,g.loc, g.minutes, g.points,player_form(players[111],g),g.opp, team_form(g.opp,g)"
   ]
  },
  {
   "cell_type": "code",
   "execution_count": null,
   "metadata": {
    "collapsed": true
   },
   "outputs": [],
   "source": []
  }
 ],
 "metadata": {
  "kernelspec": {
   "display_name": "Python 2",
   "language": "python",
   "name": "python2"
  },
  "language_info": {
   "codemirror_mode": {
    "name": "ipython",
    "version": 2
   },
   "file_extension": ".py",
   "mimetype": "text/x-python",
   "name": "python",
   "nbconvert_exporter": "python",
   "pygments_lexer": "ipython2",
   "version": "2.7.9"
  }
 },
 "nbformat": 4,
 "nbformat_minor": 0
}

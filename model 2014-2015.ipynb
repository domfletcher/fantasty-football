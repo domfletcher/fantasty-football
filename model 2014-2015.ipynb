{
 "cells": [
  {
   "cell_type": "code",
   "execution_count": 58,
   "metadata": {
    "collapsed": false
   },
   "outputs": [
    {
     "name": "stdout",
     "output_type": "stream",
     "text": [
      "\n"
     ]
    }
   ],
   "source": [
    "import json\n",
    "from datetime import date, datetime, timedelta\n"
   ]
  },
  {
   "cell_type": "code",
   "execution_count": 2,
   "metadata": {
    "collapsed": false
   },
   "outputs": [],
   "source": [
    "with open('2014-2015.json') as data_file:\n",
    "    data = json.load(data_file)"
   ]
  },
  {
   "cell_type": "code",
   "execution_count": 3,
   "metadata": {
    "collapsed": true
   },
   "outputs": [],
   "source": [
    "month_lookup = {'Aug':8,'Sep':9,'Oct':10,'Nov':11,'Dec':12,'Jan':1,'Feb':1,'Mar':3,'Apr':4,'May':5}"
   ]
  },
  {
   "cell_type": "code",
   "execution_count": 4,
   "metadata": {
    "collapsed": false
   },
   "outputs": [],
   "source": [
    "def game_date(string_date):\n",
    "    if string_date[3:6] in ['Aug','Sep','Oct','Nov','Dec']:\n",
    "        return datetime.date(2014,month_lookup[string_date[3:6]],int(string_date[0:2]))\n",
    "    else:\n",
    "        return datetime.date(2015,month_lookup[string_date[3:6]],int(string_date[0:2]))"
   ]
  },
  {
   "cell_type": "code",
   "execution_count": 32,
   "metadata": {
    "collapsed": false
   },
   "outputs": [
    {
     "name": "stdout",
     "output_type": "stream",
     "text": [
      "{u'transfers_out': 860290, u'yellow_cards': 4, u'code': 38454, u'event_total': 0, u'goals_conceded': 28, u'photo': u'38454.jpg', u'saves': 0, u'ep_this': u'0.0', u'value_form': u'0.0', u'next_fixture': u'', u'team_id': 9, u'event_points': 0, u'goals_scored': 0, u'loans_out': 0, u'web_name': u'Lovren', u'value_season': u'13.5', u'team_name': u'Liverpool', u'team_code': 14, u'fixtures': {u'all': [], u'summary': []}, u'special': False, u'first_name': u'Dejan', u'transfers_out_event': 0, u'chance_of_playing_next_round': 100, u'cost_change_start': -6, u'cost_change_event_fall': 0, u'event_explain': [[u'Minutes played', 0, 0]], u'id': 344, u'type_name': u'Defender', u'selected_by': u'9.9', u'cost_change_start_fall': 6, u'loaned_in': 0, u'season_history': [[u'2013/14', 2787, 2, 1, 12, 37, 0, 0, 0, 7, 0, 0, 17, 313, 198, 54, 124], [u'2014/15', 2037, 0, 0, 6, 28, 0, 0, 0, 4, 0, 0, 5, 195, 407, 49, 66]], u'total_points': 66, u'penalties_missed': 0, u'status': u'a', u'form': u'0.0', u'own_goals': 0, u'bonus': 5, u'team': 9, u'current_fixture': u'Stoke (A)', u'now_cost': 49, u'fixture_history': {u'all': [[u'17 Aug 13:30', 1, u'SOU(H) 2-1', 90, 0, 0, 0, 1, 0, 0, 0, 0, 0, 0, 0, 16, 22, 0, 55, 2], [u'25 Aug 20:00', 2, u'MCI(A) 1-3', 90, 0, 0, 0, 3, 0, 0, 0, 0, 0, 0, 0, 8, 17, -39255, 55, 1], [u'31 Aug 13:30', 3, u'TOT(A) 3-0', 90, 0, 0, 1, 0, 0, 0, 0, 0, 0, 0, 0, 9, 29, -98190, 55, 6], [u'13 Sep 17:30', 4, u'AVL(H) 0-1', 90, 0, 0, 0, 1, 0, 0, 0, 0, 0, 0, 0, 4, 14, -37203, 55, 2], [u'20 Sep 17:30', 5, u'WHU(A) 1-3', 90, 0, 0, 0, 3, 0, 0, 0, 0, 0, 0, 0, 9, 16, -36113, 55, 1], [u'27 Sep 12:45', 6, u'EVE(H) 1-1', 90, 0, 0, 0, 1, 0, 0, 0, 0, 0, 0, 0, 2, 15, -75813, 54, 2], [u'04 Oct 15:00', 7, u'WBA(H) 2-1', 90, 0, 0, 0, 1, 0, 0, 0, 0, 0, 0, 0, 13, 11, -27118, 54, 2], [u'19 Oct 13:30', 8, u'QPR(A) 3-2', 90, 0, 0, 0, 2, 0, 0, 0, 0, 0, 0, 0, 14, 19, -86480, 54, 1], [u'25 Oct 15:00', 9, u'HUL(H) 0-0', 90, 0, 0, 1, 0, 0, 0, 0, 0, 0, 0, 1, 10, 26, -49911, 53, 7], [u'01 Nov 12:45', 10, u'NEW(A) 0-1', 90, 0, 0, 0, 1, 0, 0, 0, 1, 0, 0, 0, 5, 11, -15173, 53, 1], [u'08 Nov 12:45', 11, u'CHE(H) 1-2', 90, 0, 0, 0, 2, 0, 0, 0, 0, 0, 0, 0, 7, 17, -54371, 52, 1], [u'23 Nov 13:30', 12, u'CRY(A) 1-3', 90, 0, 0, 0, 3, 0, 0, 0, 0, 0, 0, 0, 8, 18, -27593, 52, 1], [u'29 Nov 15:00', 13, u'STK(H) 1-0', 3, 0, 0, 0, 0, 0, 0, 0, 0, 0, 0, 0, 0, 3, -27397, 52, 1], [u'02 Dec 19:45', 14, u'LEI(A) 3-1', 1, 0, 0, 0, 0, 0, 0, 0, 0, 0, 0, 0, 0, 3, -17480, 51, 1], [u'06 Dec 15:00', 15, u'SUN(H) 0-0', 0, 0, 0, 0, 0, 0, 0, 0, 0, 0, 0, 0, 0, 0, -23702, 51, 0], [u'14 Dec 13:30', 16, u'MUN(A) 0-3', 90, 0, 0, 0, 3, 0, 0, 0, 0, 0, 0, 0, 4, 12, -21174, 51, 1], [u'21 Dec 16:00', 17, u'ARS(H) 2-2', 0, 0, 0, 0, 0, 0, 0, 0, 0, 0, 0, 0, 0, 0, -22274, 50, 0], [u'26 Dec 15:00', 18, u'BUR(A) 1-0', 0, 0, 0, 0, 0, 0, 0, 0, 0, 0, 0, 0, 0, 0, -18704, 50, 0], [u'29 Dec 20:00', 19, u'SWA(H) 4-1', 0, 0, 0, 0, 0, 0, 0, 0, 0, 0, 0, 0, 0, 0, -13529, 50, 0], [u'01 Jan 15:00', 20, u'LEI(H) 2-2', 0, 0, 0, 0, 0, 0, 0, 0, 0, 0, 0, 0, 0, 0, -14463, 50, 0], [u'10 Jan 12:45', 21, u'SUN(A) 1-0', 45, 0, 0, 0, 0, 0, 0, 0, 1, 0, 0, 0, 2, 0, -12847, 49, 0], [u'17 Jan 15:00', 22, u'AVL(A) 2-0', 0, 0, 0, 0, 0, 0, 0, 0, 0, 0, 0, 0, 0, 0, -6968, 49, 0], [u'31 Jan 15:00', 23, u'WHU(H) 2-0', 0, 0, 0, 0, 0, 0, 0, 0, 0, 0, 0, 0, 0, 0, -8442, 49, 0], [u'07 Feb 17:30', 24, u'EVE(A) 0-0', 0, 0, 0, 0, 0, 0, 0, 0, 0, 0, 0, 0, 0, 0, -5854, 49, 0], [u'10 Feb 20:00', 25, u'TOT(H) 3-2', 23, 0, 0, 0, 0, 0, 0, 0, 0, 0, 0, 0, 3, 5, -2328, 49, 1], [u'22 Feb 16:15', 26, u'SOU(A) 2-0', 90, 0, 0, 1, 0, 0, 0, 0, 1, 0, 0, 0, 13, 18, -2491, 49, 5], [u'01 Mar 12:00', 27, u'MCI(H) 2-1', 90, 0, 0, 0, 1, 0, 0, 0, 0, 0, 0, 0, 14, 12, -510, 49, 2], [u'04 Mar 20:00', 28, u'BUR(H) 2-0', 90, 0, 0, 1, 0, 0, 0, 0, 0, 0, 0, 0, 14, 29, 1436, 49, 6], [u'16 Mar 20:00', 29, u'SWA(A) 1-0', 0, 0, 0, 0, 0, 0, 0, 0, 0, 0, 0, 0, 0, 0, 2523, 49, 0], [u'22 Mar 13:30', 30, u'MUN(H) 1-2', 0, 0, 0, 0, 0, 0, 0, 0, 0, 0, 0, 0, 0, 0, -2142, 49, 0], [u'04 Apr 12:45', 31, u'ARS(A) 1-4', 0, 0, 0, 0, 0, 0, 0, 0, 0, 0, 0, 0, 0, 0, -3656, 49, 0], [u'13 Apr 20:00', 32, u'NEW(H) 2-0', 90, 0, 0, 1, 0, 0, 0, 0, 0, 0, 0, 3, 14, 28, -1049, 49, 9], [u'25 Apr 15:00', 34, u'WBA(A) 0-0', 90, 0, 0, 1, 0, 0, 0, 0, 0, 0, 0, 1, 1, 25, 19897, 49, 7], [u'28 Apr 19:45', 34, u'HUL(A) 0-1', 75, 0, 0, 0, 1, 0, 0, 0, 0, 0, 0, 0, 4, 18, 19897, 49, 2], [u'02 May 15:00', 35, u'QPR(H) 2-1', 90, 0, 0, 0, 1, 0, 0, 0, 1, 0, 0, 0, 15, 7, 2872, 49, 1], [u'10 May 16:00', 36, u'CHE(A) 1-1', 90, 0, 0, 0, 1, 0, 0, 0, 0, 0, 0, 0, 3, 14, -3368, 49, 2], [u'16 May 17:30', 37, u'CRY(H) 1-3', 90, 0, 0, 0, 3, 0, 0, 0, 0, 0, 0, 0, 3, 18, 702, 49, 1], [u'24 May 15:00', 38, u'STK(A) 1-6', 0, 0, 0, 0, 0, 0, 0, 0, 0, 0, 0, 0, 0, 0, -1158, 49, 0]], u'summary': [[36, u'CHE (A)', 2], [37, u'CRY (H)', 1], [38, u'STK (A)', 0]]}, u'clean_sheets': 6, u'assists': 0, u'selected_by_percent': u'9.9', u'transfers_in': 130825, u'loans_in': 0, u'ea_index': 195, u'penalties_saved': 0, u'dreamteam_count': 1, u'in_dreamteam': False, u'points_per_game': u'2.5', u'minutes': 2037, u'loaned_out': 0, u'transfers_in_event': 0, u'bps': 407, u'element_type': 2, u'cost_change_event': 0, u'news': u'', u'chance_of_playing_this_round': 100, u'red_cards': 0, u'second_name': u'Lovren', u'ep_next': u'2.6'}\n"
     ]
    }
   ],
   "source": [
    "print data[u'344']"
   ]
  },
  {
   "cell_type": "code",
   "execution_count": 23,
   "metadata": {
    "collapsed": true
   },
   "outputs": [],
   "source": [
    "class Played_game(object):\n",
    "    def __init__(self, game_json):\n",
    "        self.opp = game_json[2][:3]\n",
    "        self.loc = game_json[2][4] # \"A\" for away, \"H\" for home\n",
    "        self.points = game_json[19]\n",
    "        self.minutes = game_json[3]\n",
    "        self.date = game_date(game_json[0])\n",
    "        "
   ]
  },
  {
   "cell_type": "code",
   "execution_count": 51,
   "metadata": {
    "collapsed": true
   },
   "outputs": [],
   "source": [
    "class Player(object):\n",
    "    def __init__(self, player_json):\n",
    "        self.raw = player_json\n",
    "        self.name = u\"{first_name} {second_name}\".format(**player_json)\n",
    "        self.cost = player_json[\"now_cost\"]\n",
    "        self.position = player_json[\"type_name\"]\n",
    "        self.games= [Played_game(g) for g in player_json[u'fixture_history'][u'all'] ]\n",
    "    def __repr__(self):\n",
    "        return \"# %s\" % self.name.encode(\"ascii\",\"ignore\")"
   ]
  },
  {
   "cell_type": "code",
   "execution_count": 54,
   "metadata": {
    "collapsed": false
   },
   "outputs": [],
   "source": [
    "players = [Player(x) for x in data.itervalues()]"
   ]
  },
  {
   "cell_type": "code",
   "execution_count": 9,
   "metadata": {
    "collapsed": true
   },
   "outputs": [],
   "source": [
    "g = Played_game(data[u'344'][u'fixture_history'][u'all'][0])"
   ]
  },
  {
   "cell_type": "code",
   "execution_count": 68,
   "metadata": {
    "collapsed": false
   },
   "outputs": [],
   "source": [
    "def get_form(player, game):\n",
    "    points  =  0\n",
    "    games_played = 0\n",
    "    for g in player.games:\n",
    "        if g.date >= game.date + timedelta(days=-30) and g.date < game.date and g.minutes>0:\n",
    "            points = points + g.points\n",
    "            games_played = games_played + 1\n",
    "    if points == 0:\n",
    "        return 0\n",
    "    else:\n",
    "        return float(points)/games_played"
   ]
  },
  {
   "cell_type": "code",
   "execution_count": null,
   "metadata": {
    "collapsed": true
   },
   "outputs": [],
   "source": [
    "def get_opp_form(player, game):\n",
    "    points  =  0\n",
    "    games_played = 0\n",
    "    for g in player.games:\n",
    "        if g.date >= game.date + timedelta(days=-30) and g.date < game.date and g.minutes>0:\n",
    "            points = points + g.points\n",
    "            games_played = games_played + 1\n",
    "    if points == 0:\n",
    "        return 0\n",
    "    else:\n",
    "        return float(points)/games_played"
   ]
  },
  {
   "cell_type": "code",
   "execution_count": 56,
   "metadata": {
    "collapsed": false
   },
   "outputs": [
    {
     "name": "stdout",
     "output_type": "stream",
     "text": [
      "# Loc Remy\n"
     ]
    }
   ],
   "source": [
    "print players[111]"
   ]
  },
  {
   "cell_type": "code",
   "execution_count": 69,
   "metadata": {
    "collapsed": false
   },
   "outputs": [
    {
     "name": "stdout",
     "output_type": "stream",
     "text": [
      "2014-08-16 H 90 2 0\n",
      "2014-08-24 A 90 2 2.0\n",
      "2014-08-30 H 0 0 2.0\n",
      "2014-09-13 H 19 5 2.0\n",
      "2014-09-21 A 0 0 3.5\n",
      "2014-09-27 H 10 1 5.0\n",
      "2014-10-05 H 0 0 3.0\n",
      "2014-10-18 A 90 2 1.0\n",
      "2014-10-26 A 0 0 1.5\n",
      "2014-11-01 H 0 0 2.0\n",
      "2014-11-08 A 0 0 2.0\n",
      "2014-11-22 H 12 1 0\n",
      "2014-11-29 A 15 1 1.0\n",
      "2014-12-03 H 24 5 1.0\n",
      "2014-12-06 A 0 0 2.33333333333\n",
      "2014-12-13 H 0 0 2.33333333333\n",
      "2014-12-22 A 0 0 2.33333333333\n",
      "2014-12-26 H 0 0 3.0\n",
      "2014-12-28 A 2 1 3.0\n",
      "2015-01-01 A 0 0 3.0\n",
      "2015-01-10 H 7 1 1.0\n",
      "2015-01-17 A 16 1 1.25\n",
      "2015-01-31 H 86 7 1.25\n",
      "2015-01-07 A 27 1 1.0\n",
      "2015-01-11 H 69 2 1.0\n",
      "2015-01-21 H 0 0 1.2\n",
      "2015-03-04 A 1 1 0\n",
      "2015-03-15 H 9 1 1.0\n",
      "2015-03-22 A 16 7 1.0\n",
      "2015-04-04 H 62 7 4.0\n",
      "2015-04-12 A 0 0 5.0\n",
      "2015-04-18 H 0 0 7.0\n",
      "2015-04-26 A 0 0 7.0\n",
      "2015-04-29 A 0 0 7.0\n",
      "2015-05-03 H 0 0 7.0\n",
      "2015-05-10 H 83 2 0\n",
      "2015-05-18 A 78 2 2.0\n",
      "2015-05-24 H 47 12 2.0\n"
     ]
    }
   ],
   "source": [
    "for g in players[111].games:\n",
    "    print g.date,g.loc, g.minutes, g.points,get_form(players[111],g)"
   ]
  },
  {
   "cell_type": "code",
   "execution_count": null,
   "metadata": {
    "collapsed": true
   },
   "outputs": [],
   "source": []
  }
 ],
 "metadata": {
  "kernelspec": {
   "display_name": "Python 2",
   "language": "python",
   "name": "python2"
  },
  "language_info": {
   "codemirror_mode": {
    "name": "ipython",
    "version": 2
   },
   "file_extension": ".py",
   "mimetype": "text/x-python",
   "name": "python",
   "nbconvert_exporter": "python",
   "pygments_lexer": "ipython2",
   "version": "2.7.10"
  }
 },
 "nbformat": 4,
 "nbformat_minor": 0
}

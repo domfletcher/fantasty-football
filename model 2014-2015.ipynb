{
 "cells": [
  {
   "cell_type": "code",
   "execution_count": 1,
   "metadata": {
    "collapsed": false
   },
   "outputs": [],
   "source": [
    "import json\n",
    "from datetime import date, datetime, timedelta\n"
   ]
  },
  {
   "cell_type": "code",
   "execution_count": 2,
   "metadata": {
    "collapsed": false
   },
   "outputs": [],
   "source": [
    "with open('2014-2015.json') as data_file:\n",
    "    data = json.load(data_file)"
   ]
  },
  {
   "cell_type": "code",
   "execution_count": 3,
   "metadata": {
    "collapsed": false
   },
   "outputs": [],
   "source": [
    "month_lookup = {'Aug':8,'Sep':9,'Oct':10,'Nov':11,'Dec':12,'Jan':1,'Feb':2,'Mar':3,'Apr':4,'May':5}\n",
    "home_away_lookup = {'A':1,'H':0}\n",
    "game_week_lookup = {date(2015, 4, 28): 34, date(2015, 5, 2): 35, date(2015, 4, 6): 31, date(2015, 5, 24): 38, date(2015, 4, 4): 31, date(2015, 4, 19): 33, date(2015, 5, 20): 37, date(2015, 5, 9): 36, date(2015, 5, 11): 36, date(2015, 5, 16): 37, date(2015, 4, 12): 32, date(2015, 5, 18): 37, date(2015, 4, 25): 34, date(2015, 5, 3): 35, date(2015, 4, 29): 34, date(2015, 4, 7): 31, date(2015, 4, 18): 33, date(2015, 4, 5): 31, date(2015, 4, 11): 32, date(2015, 5, 17): 37, date(2015, 5, 10): 36, date(2015, 4, 26): 34, date(2015, 5, 4): 35, date(2015, 4, 13): 32}"
   ]
  },
  {
   "cell_type": "code",
   "execution_count": 4,
   "metadata": {
    "collapsed": false
   },
   "outputs": [],
   "source": [
    "def game_date(string_date):\n",
    "    if string_date[3:6] in ['Aug','Sep','Oct','Nov','Dec']:\n",
    "        return date(2014,month_lookup[string_date[3:6]],int(string_date[0:2]))\n",
    "    else:\n",
    "        return date(2015,month_lookup[string_date[3:6]],int(string_date[0:2]))"
   ]
  },
  {
   "cell_type": "code",
   "execution_count": 14,
   "metadata": {
    "collapsed": true
   },
   "outputs": [],
   "source": [
    "class Played_game(object):\n",
    "    def __init__(self, game_json):\n",
    "        self.opp = game_json[2][:3]\n",
    "        self.loc = game_json[2][4] # \"A\" for away, \"H\" for home\n",
    "        self.points = game_json[19]\n",
    "        self.minutes = game_json[3]\n",
    "        self.date = game_date(game_json[0])\n",
    "        self.cost = game_json[18]\n"
   ]
  },
  {
   "cell_type": "code",
   "execution_count": 6,
   "metadata": {
    "collapsed": true
   },
   "outputs": [],
   "source": [
    "class Player(object):\n",
    "    def __init__(self, player_json):\n",
    "        self.raw = player_json\n",
    "        self.name = u\"{first_name} {second_name}\".format(**player_json)\n",
    "        self.cost = player_json[\"now_cost\"]\n",
    "        self.position = player_json[\"type_name\"]\n",
    "        self.games= [Played_game(g) for g in player_json[u'fixture_history'][u'all'] ]\n",
    "    def __repr__(self):\n",
    "        return \"# %s\" % self.name.encode(\"ascii\",\"ignore\")"
   ]
  },
  {
   "cell_type": "code",
   "execution_count": 15,
   "metadata": {
    "collapsed": false,
    "scrolled": false
   },
   "outputs": [],
   "source": [
    "players = [Player(x) for x in data.itervalues()]"
   ]
  },
  {
   "cell_type": "code",
   "execution_count": 8,
   "metadata": {
    "collapsed": false
   },
   "outputs": [
    {
     "name": "stdout",
     "output_type": "stream",
     "text": [
      "[u'13 Sep 17:30', 4, u'AVL(H) 0-1', 90, 0, 0, 0, 1, 0, 0, 0, 0, 0, 0, 0, 4, 14, -37203, 55, 2]\n"
     ]
    }
   ],
   "source": [
    "print data[u'344'][u'fixture_history'][u'all'][3]"
   ]
  },
  {
   "cell_type": "code",
   "execution_count": 17,
   "metadata": {
    "collapsed": false
   },
   "outputs": [],
   "source": [
    "def player_form(player, game):\n",
    "    points  =  0\n",
    "    games_played = 0\n",
    "    for g in player.games:\n",
    "        if g.date >= game.date + timedelta(days=-30) and g.date < game.date and g.minutes>0:\n",
    "            points = points + g.points\n",
    "            games_played = games_played + 1\n",
    "    if points == 0:\n",
    "        return 0\n",
    "    else:\n",
    "        return float(points)/games_played"
   ]
  },
  {
   "cell_type": "code",
   "execution_count": 16,
   "metadata": {
    "collapsed": false
   },
   "outputs": [],
   "source": [
    "def opp_form(game):\n",
    "    points  =  0\n",
    "    games_played = 0\n",
    "    for player in players:\n",
    "        for g in player.games:\n",
    "            if g.date >= game.date + timedelta(days=-30) and g.date < game.date and g.minutes>0 and g.opp == game.opp:\n",
    "                points = points + g.points\n",
    "                games_played = games_played + 1\n",
    "    if points == 0:\n",
    "        return 0\n",
    "    else:\n",
    "        return float(points)/games_played"
   ]
  },
  {
   "cell_type": "code",
   "execution_count": 18,
   "metadata": {
    "collapsed": true
   },
   "outputs": [],
   "source": [
    "def get_sort_key(player):\n",
    "    return sum([g.points for g in player.games])"
   ]
  },
  {
   "cell_type": "code",
   "execution_count": 19,
   "metadata": {
    "collapsed": true
   },
   "outputs": [],
   "source": [
    "from sklearn import linear_model\n",
    "clf = linear_model.Ridge (alpha = .5)\n",
    "regr = linear_model.LinearRegression()"
   ]
  },
  {
   "cell_type": "code",
   "execution_count": 21,
   "metadata": {
    "collapsed": false
   },
   "outputs": [],
   "source": [
    "fit_features = []\n",
    "fit_points = []\n",
    "predict_features  = []\n",
    "predict_points = []\n",
    "for p in sorted(players, key=get_sort_key, reverse=True )[0:150]:\n",
    "    for g in p.games:\n",
    "        if g.date < date(2015,4,1) and g.minutes > 0 :\n",
    "            fit_features.append([home_away_lookup[g.loc],player_form(p,g),opp_form(g)])\n",
    "            fit_points.append(g.points)\n",
    "        if g.minutes > 0:\n",
    "            predict_features.append([home_away_lookup[g.loc],player_form(p,g),opp_form(g)])\n",
    "            predict_points.append(g.points)\n",
    "            "
   ]
  },
  {
   "cell_type": "code",
   "execution_count": 23,
   "metadata": {
    "collapsed": false
   },
   "outputs": [
    {
     "name": "stdout",
     "output_type": "stream",
     "text": [
      "[-0.66055655  0.08499553  0.24784204]\n"
     ]
    }
   ],
   "source": [
    "clf.fit(fit_features,fit_points)\n",
    "print clf.coef_"
   ]
  },
  {
   "cell_type": "code",
   "execution_count": 35,
   "metadata": {
    "collapsed": false
   },
   "outputs": [],
   "source": [
    "def test_a_model(model):\n",
    "    #make_predictions\n",
    "    predictions = {31:[],32:[],33:[],34:[],35:[],36:[],37:[],38:[]}\n",
    "    for p in sorted(players, key=get_sort_key, reverse=True )[0:150]:\n",
    "        for g in p.games:\n",
    "            if g.date >= date(2015,4,1) and g.minutes > 0:\n",
    "                predictions[game_week_lookup[g.date]].append([p,g,clf.predict([home_away_lookup[g.loc],player_form(p,g),opp_form(g)])])\n",
    "    return predictions"
   ]
  },
  {
   "cell_type": "code",
   "execution_count": 36,
   "metadata": {
    "collapsed": true
   },
   "outputs": [],
   "source": [
    "clf_model = test_a_model(clf)"
   ]
  },
  {
   "cell_type": "code",
   "execution_count": 40,
   "metadata": {
    "collapsed": false
   },
   "outputs": [
    {
     "data": {
      "text/plain": [
       "6"
      ]
     },
     "execution_count": 40,
     "metadata": {},
     "output_type": "execute_result"
    }
   ],
   "source": [
    "clf_model[32][0][1].points"
   ]
  },
  {
   "cell_type": "code",
   "execution_count": null,
   "metadata": {
    "collapsed": true
   },
   "outputs": [],
   "source": [
    "def objective_function():\n",
    "    m = \" + \".join(\"{ev} {p.pos}{p.idn}\".format(p=p, ev=p.expected_points())\n",
    "                   for p in players)\n",
    "    \n",
    "    return \"max: \" + m + \";\\n\"\n",
    "\n",
    "def cost_constraint(max_price):\n",
    "    c = \" + \".join(\"{p.cost} {p.pos}{p.idn}\".format(p=p)\n",
    "                   for p in players)\n",
    "    \n",
    "    return \"cost_constraint: \" + c + \" <= %s;\\n\" % max_price"
   ]
  }
 ],
 "metadata": {
  "kernelspec": {
   "display_name": "Python 2",
   "language": "python",
   "name": "python2"
  },
  "language_info": {
   "codemirror_mode": {
    "name": "ipython",
    "version": 2
   },
   "file_extension": ".py",
   "mimetype": "text/x-python",
   "name": "python",
   "nbconvert_exporter": "python",
   "pygments_lexer": "ipython2",
   "version": "2.7.9"
  }
 },
 "nbformat": 4,
 "nbformat_minor": 0
}
